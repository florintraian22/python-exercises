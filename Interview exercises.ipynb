{
 "cells": [
  {
   "cell_type": "code",
   "execution_count": 3,
   "metadata": {},
   "outputs": [
    {
     "name": "stdout",
     "output_type": "stream",
     "text": [
      "list1 = [10, 'a']\n",
      "list2 = [123]\n",
      "list3 = [10, 'a']\n"
     ]
    }
   ],
   "source": [
    "# Q: What will be the output of the following code and why?\n",
    "# A: You shouldn't use mutable types as default values when defining a function. \n",
    "# The default list gets created when the function gets defined.\n",
    "# To correct this you should set de default value of list to None and create the list inside the function.\n",
    "# def extend_list(val, list=None):\n",
    "#    if list is None:\n",
    "#        list = []\n",
    "#    list.append(val)\n",
    "#    return list\n",
    "\n",
    "def extend_list(val, list=[]):\n",
    "    list.append(val)\n",
    "    return list\n",
    "\n",
    "list1 = extend_list(10)\n",
    "list2 = extend_list(123, [])\n",
    "list3 = extend_list('a')\n",
    "\n",
    "print('list1 = %s' %list1)\n",
    "print('list2 = %s' %list2)\n",
    "print('list3 = %s' %list3)"
   ]
  },
  {
   "cell_type": "code",
   "execution_count": 5,
   "metadata": {},
   "outputs": [
    {
     "name": "stdout",
     "output_type": "stream",
     "text": [
      "Matrix: [[1, 2, 3], [2, 4, 6], [3, 6, 9]]\n"
     ]
    }
   ],
   "source": [
    "# Q: Does the following code produce the output:\n",
    "# Matrix : [[1, 2, 3], [2, 4, 6], [3, 6, 9]]\n",
    "# A: No, because the iterator provides the next value until it finishes. \n",
    "# In the list comprehension the left part gets evaluated first.\n",
    "# One solution is to change the iterator into a list\n",
    "iterator = (i for i in range(1, 4))\n",
    "matrix = [[x*y for y in iterator] for x in iterator]\n",
    "print (\"Matrix: %s\" %str(matrix))"
   ]
  },
  {
   "cell_type": "code",
   "execution_count": 12,
   "metadata": {},
   "outputs": [
    {
     "name": "stdout",
     "output_type": "stream",
     "text": [
      "x = 20\n",
      "list1: [10, 10, 10]\n"
     ]
    }
   ],
   "source": [
    "# Q: How are variables passed in python, through by reference or by value?\n",
    "# A: Always by reference.\n",
    "# Possible gotchas:\n",
    "\n",
    "def add_ten(a):\n",
    "    a+=10\n",
    "    \n",
    "x = 20\n",
    "add_ten(x)\n",
    "print('x = %s' %x)\n",
    "\n",
    "# x remains 20 because integers are immutable.\n",
    "# Helper example would be:\n",
    "\n",
    "def append_ten(list):\n",
    "    list.append(10)\n",
    "    \n",
    "list1 = []\n",
    "append_ten(list1)\n",
    "append_ten(list1)\n",
    "append_ten(list1)\n",
    "\n",
    "print('list1: %s' %str(list1))\n",
    "# Lists are mutable.\n"
   ]
  },
  {
   "cell_type": "code",
   "execution_count": 16,
   "metadata": {},
   "outputs": [
    {
     "name": "stdout",
     "output_type": "stream",
     "text": [
      "8\n",
      "8\n",
      "8\n",
      "8\n",
      "8\n"
     ]
    }
   ],
   "source": [
    "# Q: What will the following code output?\n",
    "# This is an advanced question, not really used lately.\n",
    "# You can fix this by giving the lambda function a default argument like so:\n",
    "# function_list = [lambda x, i=i: x*i for i in range(5)]\n",
    "function_list = [lambda x: x*i for i in range(5)]\n",
    "\n",
    "for func in function_list:\n",
    "    print(func(2))"
   ]
  },
  {
   "cell_type": "code",
   "execution_count": null,
   "metadata": {},
   "outputs": [],
   "source": [
    "# Random questions:\n",
    "# What is a iterator?\n",
    "# What is a generator?\n",
    "# What is the difference between an iterator and a generator?\n",
    "# What is a list comprehension?\n",
    "# What is a lambda function?\n",
    "# What is a decorator?\n",
    "# Can you have multiple decorators?\n",
    "# What is the order in which multiple decorators are executed?\n",
    "# Are decorators used only for functions?\n",
    "# Can you have an abstract class in Python? What is an abstract class?\n",
    "# Can you give me an example of polymorphism in Python? (Trick question)\n",
    "# Can you have multiple inheritance in Python?\n",
    "# How does Python deal with multiple inheritance?\n",
    "# Do you know what python MRO is?\n",
    "# What frameworks did you work with?\n",
    "# What is the difference between those frameworks? (Example: Flask vs Django)\n",
    "# Do you have multithreading in Python? What is it useful for?\n",
    "# What is the Global Interpreter Lock (GIL)?\n"
   ]
  }
 ],
 "metadata": {
  "kernelspec": {
   "display_name": "Python 3",
   "language": "python",
   "name": "python3"
  },
  "language_info": {
   "codemirror_mode": {
    "name": "ipython",
    "version": 3
   },
   "file_extension": ".py",
   "mimetype": "text/x-python",
   "name": "python",
   "nbconvert_exporter": "python",
   "pygments_lexer": "ipython3",
   "version": "3.6.1"
  }
 },
 "nbformat": 4,
 "nbformat_minor": 2
}
